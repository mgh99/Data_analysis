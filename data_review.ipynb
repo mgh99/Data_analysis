{
 "cells": [
  {
   "cell_type": "code",
   "execution_count": 1,
   "id": "d6ea125c",
   "metadata": {},
   "outputs": [],
   "source": [
    "import pandas as pd\n",
    "import matplotlib.pyplot as plt\n",
    "import seaborn as sns\n",
    "import numpy as np\n",
    "import statsmodels.api as sm"
   ]
  },
  {
   "cell_type": "code",
   "execution_count": 46,
   "id": "43603008",
   "metadata": {},
   "outputs": [],
   "source": [
    "# Upload all datasets\n",
    "word_categorization = pd.read_csv(\"word_categorization.csv\")\n",
    "word_recognition = pd.read_csv(\"word_recognition.csv\")\n",
    "word_frequency = pd.read_csv(\"word_frequency_tot_categorization_task.csv\")\n",
    "wc_mt_statistics = pd.read_csv(\"WC_MT_statistics.csv\", header=[0])"
   ]
  },
  {
   "cell_type": "code",
   "execution_count": 10,
   "id": "c8f3ae00",
   "metadata": {},
   "outputs": [
    {
     "data": {
      "text/plain": [
       "0"
      ]
     },
     "execution_count": 10,
     "metadata": {},
     "output_type": "execute_result"
    }
   ],
   "source": [
    "df_user_10106 = word_categorization[word_categorization['user_id'] == 10106]\n",
    "#df_user_10106\n",
    "\n",
    "# VCheck for non-null values in column ‘response_time_ms’ for user 10106\n",
    "non_nan_response_times = df_user_10106['response_time_ms'].dropna()\n",
    "\n",
    "# Count how many non-zero values there are\n",
    "num_non_nan_values = non_nan_response_times.count()\n",
    "\n",
    "num_non_nan_values"
   ]
  },
  {
   "cell_type": "code",
   "execution_count": 36,
   "id": "e29377ac",
   "metadata": {},
   "outputs": [
    {
     "data": {
      "text/html": [
       "<div>\n",
       "<style scoped>\n",
       "    .dataframe tbody tr th:only-of-type {\n",
       "        vertical-align: middle;\n",
       "    }\n",
       "\n",
       "    .dataframe tbody tr th {\n",
       "        vertical-align: top;\n",
       "    }\n",
       "\n",
       "    .dataframe thead th {\n",
       "        text-align: right;\n",
       "    }\n",
       "</style>\n",
       "<table border=\"1\" class=\"dataframe\">\n",
       "  <thead>\n",
       "    <tr style=\"text-align: right;\">\n",
       "      <th></th>\n",
       "      <th>user_id</th>\n",
       "      <th>voucher</th>\n",
       "      <th>valid</th>\n",
       "      <th>language</th>\n",
       "      <th>word</th>\n",
       "      <th>user_given_response</th>\n",
       "      <th>expected_correct_response</th>\n",
       "      <th>is_user_response_correct</th>\n",
       "      <th>alive_notAlive</th>\n",
       "      <th>manmade_notManmade</th>\n",
       "      <th>response_time_ms</th>\n",
       "    </tr>\n",
       "  </thead>\n",
       "  <tbody>\n",
       "    <tr>\n",
       "      <th>0</th>\n",
       "      <td>10106</td>\n",
       "      <td>1</td>\n",
       "      <td>1</td>\n",
       "      <td>0</td>\n",
       "      <td>HIGHWAY</td>\n",
       "      <td>0</td>\n",
       "      <td>0</td>\n",
       "      <td>1</td>\n",
       "      <td>0.0</td>\n",
       "      <td>NaN</td>\n",
       "      <td>NaN</td>\n",
       "    </tr>\n",
       "    <tr>\n",
       "      <th>1</th>\n",
       "      <td>10106</td>\n",
       "      <td>1</td>\n",
       "      <td>1</td>\n",
       "      <td>0</td>\n",
       "      <td>CLOVER</td>\n",
       "      <td>0</td>\n",
       "      <td>1</td>\n",
       "      <td>0</td>\n",
       "      <td>1.0</td>\n",
       "      <td>NaN</td>\n",
       "      <td>NaN</td>\n",
       "    </tr>\n",
       "    <tr>\n",
       "      <th>2</th>\n",
       "      <td>10106</td>\n",
       "      <td>1</td>\n",
       "      <td>1</td>\n",
       "      <td>0</td>\n",
       "      <td>KING</td>\n",
       "      <td>1</td>\n",
       "      <td>1</td>\n",
       "      <td>1</td>\n",
       "      <td>1.0</td>\n",
       "      <td>NaN</td>\n",
       "      <td>NaN</td>\n",
       "    </tr>\n",
       "    <tr>\n",
       "      <th>3</th>\n",
       "      <td>10106</td>\n",
       "      <td>1</td>\n",
       "      <td>1</td>\n",
       "      <td>0</td>\n",
       "      <td>NAPKIN</td>\n",
       "      <td>0</td>\n",
       "      <td>0</td>\n",
       "      <td>1</td>\n",
       "      <td>0.0</td>\n",
       "      <td>NaN</td>\n",
       "      <td>NaN</td>\n",
       "    </tr>\n",
       "    <tr>\n",
       "      <th>4</th>\n",
       "      <td>10106</td>\n",
       "      <td>1</td>\n",
       "      <td>1</td>\n",
       "      <td>0</td>\n",
       "      <td>BARREL</td>\n",
       "      <td>0</td>\n",
       "      <td>0</td>\n",
       "      <td>1</td>\n",
       "      <td>0.0</td>\n",
       "      <td>NaN</td>\n",
       "      <td>NaN</td>\n",
       "    </tr>\n",
       "  </tbody>\n",
       "</table>\n",
       "</div>"
      ],
      "text/plain": [
       "   user_id  voucher  valid  language     word  user_given_response  \\\n",
       "0    10106        1      1         0  HIGHWAY                    0   \n",
       "1    10106        1      1         0   CLOVER                    0   \n",
       "2    10106        1      1         0     KING                    1   \n",
       "3    10106        1      1         0   NAPKIN                    0   \n",
       "4    10106        1      1         0   BARREL                    0   \n",
       "\n",
       "   expected_correct_response  is_user_response_correct  alive_notAlive  \\\n",
       "0                          0                         1             0.0   \n",
       "1                          1                         0             1.0   \n",
       "2                          1                         1             1.0   \n",
       "3                          0                         1             0.0   \n",
       "4                          0                         1             0.0   \n",
       "\n",
       "   manmade_notManmade  response_time_ms  \n",
       "0                 NaN               NaN  \n",
       "1                 NaN               NaN  \n",
       "2                 NaN               NaN  \n",
       "3                 NaN               NaN  \n",
       "4                 NaN               NaN  "
      ]
     },
     "execution_count": 36,
     "metadata": {},
     "output_type": "execute_result"
    }
   ],
   "source": [
    "word_categorization.head()"
   ]
  },
  {
   "cell_type": "code",
   "execution_count": 47,
   "id": "22af0906",
   "metadata": {},
   "outputs": [
    {
     "data": {
      "text/html": [
       "<div>\n",
       "<style scoped>\n",
       "    .dataframe tbody tr th:only-of-type {\n",
       "        vertical-align: middle;\n",
       "    }\n",
       "\n",
       "    .dataframe tbody tr th {\n",
       "        vertical-align: top;\n",
       "    }\n",
       "\n",
       "    .dataframe thead th {\n",
       "        text-align: right;\n",
       "    }\n",
       "</style>\n",
       "<table border=\"1\" class=\"dataframe\">\n",
       "  <thead>\n",
       "    <tr style=\"text-align: right;\">\n",
       "      <th></th>\n",
       "      <th>user_id</th>\n",
       "      <th>voucher</th>\n",
       "      <th>valid</th>\n",
       "      <th>language</th>\n",
       "      <th>WC_CorrAns_RT_mean_1</th>\n",
       "      <th>WC_CorrAns_RT_SD_1</th>\n",
       "      <th>WC_correct_answers_percentage_1</th>\n",
       "      <th>WC_information_1</th>\n",
       "      <th>WC_information_rate_1</th>\n",
       "      <th>MT_IC_1</th>\n",
       "      <th>MT_EC_1</th>\n",
       "      <th>MT_IW_1</th>\n",
       "      <th>MT_EW_1</th>\n",
       "      <th>MT_NG_1</th>\n",
       "      <th>MT_C_1</th>\n",
       "    </tr>\n",
       "  </thead>\n",
       "  <tbody>\n",
       "    <tr>\n",
       "      <th>0</th>\n",
       "      <td>10106</td>\n",
       "      <td>1</td>\n",
       "      <td>1</td>\n",
       "      <td>0</td>\n",
       "      <td>NaN</td>\n",
       "      <td>NaN</td>\n",
       "      <td>83.076923</td>\n",
       "      <td>0.344058</td>\n",
       "      <td>NaN</td>\n",
       "      <td>14.0</td>\n",
       "      <td>31.5</td>\n",
       "      <td>11.5</td>\n",
       "      <td>19.0</td>\n",
       "      <td>24.0</td>\n",
       "      <td>45.5</td>\n",
       "    </tr>\n",
       "    <tr>\n",
       "      <th>1</th>\n",
       "      <td>10162</td>\n",
       "      <td>1</td>\n",
       "      <td>1</td>\n",
       "      <td>0</td>\n",
       "      <td>NaN</td>\n",
       "      <td>NaN</td>\n",
       "      <td>93.846154</td>\n",
       "      <td>0.666478</td>\n",
       "      <td>NaN</td>\n",
       "      <td>55.0</td>\n",
       "      <td>1.0</td>\n",
       "      <td>25.5</td>\n",
       "      <td>2.5</td>\n",
       "      <td>16.0</td>\n",
       "      <td>56.0</td>\n",
       "    </tr>\n",
       "    <tr>\n",
       "      <th>2</th>\n",
       "      <td>100</td>\n",
       "      <td>1</td>\n",
       "      <td>1</td>\n",
       "      <td>0</td>\n",
       "      <td>NaN</td>\n",
       "      <td>NaN</td>\n",
       "      <td>96.923077</td>\n",
       "      <td>0.801765</td>\n",
       "      <td>NaN</td>\n",
       "      <td>14.5</td>\n",
       "      <td>65.0</td>\n",
       "      <td>10.0</td>\n",
       "      <td>4.0</td>\n",
       "      <td>6.5</td>\n",
       "      <td>79.5</td>\n",
       "    </tr>\n",
       "    <tr>\n",
       "      <th>3</th>\n",
       "      <td>10154</td>\n",
       "      <td>1</td>\n",
       "      <td>1</td>\n",
       "      <td>0</td>\n",
       "      <td>NaN</td>\n",
       "      <td>NaN</td>\n",
       "      <td>92.307692</td>\n",
       "      <td>0.608756</td>\n",
       "      <td>NaN</td>\n",
       "      <td>0.0</td>\n",
       "      <td>64.0</td>\n",
       "      <td>0.5</td>\n",
       "      <td>34.0</td>\n",
       "      <td>1.5</td>\n",
       "      <td>64.0</td>\n",
       "    </tr>\n",
       "    <tr>\n",
       "      <th>4</th>\n",
       "      <td>10144</td>\n",
       "      <td>1</td>\n",
       "      <td>1</td>\n",
       "      <td>0</td>\n",
       "      <td>NaN</td>\n",
       "      <td>NaN</td>\n",
       "      <td>94.615385</td>\n",
       "      <td>0.697484</td>\n",
       "      <td>NaN</td>\n",
       "      <td>19.0</td>\n",
       "      <td>40.5</td>\n",
       "      <td>11.0</td>\n",
       "      <td>6.5</td>\n",
       "      <td>23.0</td>\n",
       "      <td>59.5</td>\n",
       "    </tr>\n",
       "  </tbody>\n",
       "</table>\n",
       "</div>"
      ],
      "text/plain": [
       "   user_id  voucher  valid  language  WC_CorrAns_RT_mean_1  \\\n",
       "0    10106        1      1         0                   NaN   \n",
       "1    10162        1      1         0                   NaN   \n",
       "2      100        1      1         0                   NaN   \n",
       "3    10154        1      1         0                   NaN   \n",
       "4    10144        1      1         0                   NaN   \n",
       "\n",
       "   WC_CorrAns_RT_SD_1  WC_correct_answers_percentage_1  WC_information_1  \\\n",
       "0                 NaN                        83.076923          0.344058   \n",
       "1                 NaN                        93.846154          0.666478   \n",
       "2                 NaN                        96.923077          0.801765   \n",
       "3                 NaN                        92.307692          0.608756   \n",
       "4                 NaN                        94.615385          0.697484   \n",
       "\n",
       "   WC_information_rate_1  MT_IC_1  MT_EC_1  MT_IW_1  MT_EW_1  MT_NG_1  MT_C_1  \n",
       "0                    NaN     14.0     31.5     11.5     19.0     24.0    45.5  \n",
       "1                    NaN     55.0      1.0     25.5      2.5     16.0    56.0  \n",
       "2                    NaN     14.5     65.0     10.0      4.0      6.5    79.5  \n",
       "3                    NaN      0.0     64.0      0.5     34.0      1.5    64.0  \n",
       "4                    NaN     19.0     40.5     11.0      6.5     23.0    59.5  "
      ]
     },
     "execution_count": 47,
     "metadata": {},
     "output_type": "execute_result"
    }
   ],
   "source": [
    "wc_mt_statistics.head() # 51 to go beyond null"
   ]
  },
  {
   "cell_type": "code",
   "execution_count": 59,
   "id": "21ea82f2",
   "metadata": {},
   "outputs": [
    {
     "name": "stdout",
     "output_type": "stream",
     "text": [
      "Columns with NaN values and their amount:\n",
      "WC_CorrAns_RT_mean_1     49\n",
      "WC_CorrAns_RT_SD_1       49\n",
      "WC_information_rate_1    49\n",
      "dtype: int64\n",
      "\n",
      "Options for dealing with NaN values:\n",
      "1. Delete rows with NaN: df.dropna(inplace=True)\n",
      "2. Fill with the average of the column: df.fillna(df.mean(), inplace=True)\n",
      "3. Fill with interpolation: df.interpolate(inplace=True)\n",
      "4. Fill with a specific value, e.g. 0: df.fillna(0, inplace=True)\n"
     ]
    }
   ],
   "source": [
    "# Check for the presence of NaN\n",
    "nan_summary = wc_mt_statistics.isnull().sum()\n",
    "nan_columns = nan_summary[nan_summary > 0]\n",
    "\n",
    "# Show columns with NaN values and their amount\n",
    "print(\"Columns with NaN values and their amount:\")\n",
    "print(nan_columns)\n",
    "\n",
    "# Options for dealing with NaN values\n",
    "print(\"\\nOptions for dealing with NaN values:\")\n",
    "print(\"1. Delete rows with NaN: df.dropna(inplace=True)\")\n",
    "print(\"2. Fill with the average of the column: df.fillna(df.mean(), inplace=True)\")\n",
    "print(\"3. Fill with interpolation: df.interpolate(inplace=True)\")\n",
    "print(\"4. Fill with a specific value, e.g. 0: df.fillna(0, inplace=True)\")"
   ]
  },
  {
   "cell_type": "code",
   "execution_count": null,
   "id": "61611537",
   "metadata": {},
   "outputs": [],
   "source": [
    "# hacer la mediana de los valores que faltan\n",
    "# doing the median for the null values (inplace =True)\n",
    "# train_data.Mri_Track_age_scan.fillna(train_data.Mri_track_age_scan.median(), inplace=True)"
   ]
  },
  {
   "cell_type": "code",
   "execution_count": 15,
   "id": "8ee2bff4",
   "metadata": {},
   "outputs": [
    {
     "data": {
      "text/plain": [
       "235"
      ]
     },
     "execution_count": 15,
     "metadata": {},
     "output_type": "execute_result"
    }
   ],
   "source": [
    "# Count the number of unique user_id's in the file\n",
    "unique_user_ids = word_categorization['user_id'].nunique()\n",
    "unique_user_ids"
   ]
  },
  {
   "cell_type": "markdown",
   "id": "66550e12",
   "metadata": {},
   "source": [
    "### VERIFICATION OF REACTION TIMES"
   ]
  },
  {
   "cell_type": "code",
   "execution_count": 30,
   "id": "6e407e99",
   "metadata": {},
   "outputs": [
    {
     "data": {
      "text/plain": [
       "{'Total users (without NaN values)': 186,\n",
       " 'Mean reaction time matches (3 decimals)': 186,\n",
       " 'STD reaction time matches (3 decimals)': 0,\n",
       " 'Accuracy matches (3 decimals)': 186}"
      ]
     },
     "execution_count": 30,
     "metadata": {},
     "output_type": "execute_result"
    }
   ],
   "source": [
    "# Redondear a 3 decimales los valores antes de la comparación\n",
    "df_comparison_filtered[\"WC_CorrAns_RT_mean_1\"] = df_comparison_filtered[\"WC_CorrAns_RT_mean_1\"].round(3)\n",
    "df_comparison_filtered[\"calculated_WC_CorrAns_RT_mean_1\"] = df_comparison_filtered[\"calculated_WC_CorrAns_RT_mean_1\"].round(3)\n",
    "\n",
    "df_comparison_filtered[\"WC_CorrAns_RT_SD_1\"] = df_comparison_filtered[\"WC_CorrAns_RT_SD_1\"].round(3)\n",
    "df_comparison_filtered[\"calculated_WC_CorrAns_RT_SD_1\"] = df_comparison_filtered[\"calculated_WC_CorrAns_RT_SD_1\"].round(3)\n",
    "\n",
    "df_comparison_filtered[\"WC_correct_answers_percentage_1\"] = df_comparison_filtered[\"WC_correct_answers_percentage_1\"].round(3)\n",
    "df_comparison_filtered[\"calculated_WC_correct_answers_percentage_1\"] = df_comparison_filtered[\"calculated_WC_correct_answers_percentage_1\"].round(3)\n",
    "\n",
    "# Compare if values match to 3 decimal places\n",
    "df_comparison_filtered[\"mean_match\"] = df_comparison_filtered[\"WC_CorrAns_RT_mean_1\"] == df_comparison_filtered[\"calculated_WC_CorrAns_RT_mean_1\"]\n",
    "df_comparison_filtered[\"std_match\"] = df_comparison_filtered[\"WC_CorrAns_RT_SD_1\"] == df_comparison_filtered[\"calculated_WC_CorrAns_RT_SD_1\"]\n",
    "df_comparison_filtered[\"accuracy_match\"] = df_comparison_filtered[\"WC_correct_answers_percentage_1\"] == df_comparison_filtered[\"calculated_WC_correct_answers_percentage_1\"]\n",
    "\n",
    "# Coincidences and disagreements\n",
    "mean_match_count_filtered = df_comparison_filtered[\"mean_match\"].sum()\n",
    "std_match_count_filtered = df_comparison_filtered[\"std_match\"].sum()\n",
    "accuracy_match_count_filtered = df_comparison_filtered[\"accuracy_match\"].sum()\n",
    "\n",
    "total_users_filtered = df_comparison_filtered.shape[0]\n",
    "\n",
    "{\n",
    "    \"Total users (without NaN values)\": total_users_filtered,\n",
    "    \"Mean reaction time matches (3 decimals)\": mean_match_count_filtered,\n",
    "    \"STD reaction time matches (3 decimals)\": std_match_count_filtered,\n",
    "    \"Accuracy matches (3 decimals)\": accuracy_match_count_filtered\n",
    "}\n"
   ]
  },
  {
   "cell_type": "code",
   "execution_count": 58,
   "id": "339e98b8",
   "metadata": {},
   "outputs": [
    {
     "data": {
      "text/plain": [
       "(186, 186)"
      ]
     },
     "execution_count": 58,
     "metadata": {},
     "output_type": "execute_result"
    }
   ],
   "source": [
    "# Recalculate the standard deviation with ddof=0 to check if it is a better match\n",
    "df_correct_responses = word_categorization[word_categorization[\"is_user_response_correct\"] == 1]\n",
    "\n",
    "# Calculate the standard deviation with ddof=0\n",
    "reaction_time_stats_ddof0 = df_correct_responses.groupby(\"user_id\")[\"response_time_ms\"].agg(\n",
    "    mean=\"mean\", std=lambda x: x.std(ddof=0)\n",
    ").reset_index()\n",
    "\n",
    "# Rename columns for comparison\n",
    "reaction_time_stats_ddof0.rename(columns={'mean': 'calculated_WC_CorrAns_RT_mean_1', 'std': 'calculated_WC_CorrAns_RT_SD_1'}, inplace=True)\n",
    "\n",
    "# Merge with the filtered table WC_MT_statistics to compare\n",
    "df_comparison_filtered_ddof0 = df_filtered.merge(reaction_time_stats_ddof0, on=\"user_id\", how=\"left\")\n",
    "\n",
    "# Round to 3 decimal places before comparing\n",
    "df_comparison_filtered_ddof0[\"WC_CorrAns_RT_SD_1\"] = df_comparison_filtered_ddof0[\"WC_CorrAns_RT_SD_1\"].round(3)\n",
    "df_comparison_filtered_ddof0[\"calculated_WC_CorrAns_RT_SD_1\"] = df_comparison_filtered_ddof0[\"calculated_WC_CorrAns_RT_SD_1\"].round(3)\n",
    "\n",
    "# Compare if values match to 3 decimal places\n",
    "df_comparison_filtered_ddof0[\"std_match\"] = df_comparison_filtered_ddof0[\"WC_CorrAns_RT_SD_1\"] == df_comparison_filtered_ddof0[\"calculated_WC_CorrAns_RT_SD_1\"]\n",
    "\n",
    "# Counting coincidences and discrepancies in standard deviation\n",
    "std_match_count_filtered_ddof0 = df_comparison_filtered_ddof0[\"std_match\"].sum()\n",
    "\n",
    "# Verify the result\n",
    "std_match_count_filtered_ddof0, df_comparison_filtered_ddof0.shape[0]\n"
   ]
  },
  {
   "cell_type": "code",
   "execution_count": 32,
   "id": "6c7b4846",
   "metadata": {},
   "outputs": [],
   "source": [
    "# NOTE: it is compared with 3 decimals because few results matched with the default ones but using 3 decimals\n",
    "# all the registers coincide except for the NaN which are not calculated."
   ]
  },
  {
   "cell_type": "code",
   "execution_count": null,
   "id": "f811ff0d",
   "metadata": {},
   "outputs": [],
   "source": [
    "# NOTE: The problem was due to the fact that the original calculation in the database used the population standard deviation (ddof=0), while the standard method in Pandas (ddof=1) calculates the sample standard deviation. \n",
    "#(ddof=0), while the standard method in Pandas (ddof=1) calculates the sample standard deviation, \n",
    "#, which generated small differences."
   ]
  },
  {
   "cell_type": "code",
   "execution_count": 49,
   "id": "f94c9f2a",
   "metadata": {},
   "outputs": [
    {
     "data": {
      "text/plain": [
       "{'Stored WC_CorrAns_RT_SD_1': 761.1226641432567,\n",
       " 'Calculated WC_CorrAns_RT_SD_1': 764.2103955403774}"
      ]
     },
     "execution_count": 49,
     "metadata": {},
     "output_type": "execute_result"
    }
   ],
   "source": [
    "# Ensure 'user_id' is of integer type in both DataFrames\n",
    "wc_mt_statistics[\"user_id\"] = wc_mt_statistics[\"user_id\"].astype(int)\n",
    "word_categorization[\"user_id\"] = word_categorization[\"user_id\"].astype(int)\n",
    "\n",
    "# Retry the calculation for user 10150\n",
    "user_10150_stored_value = wc_mt_statistics[wc_mt_statistics[\"user_id\"] == 10150][\"WC_CorrAns_RT_SD_1\"].values\n",
    "\n",
    "# Get the reaction times for correct responses for user 10150\n",
    "user_10150_reaction_times = word_categorization[\n",
    "    (word_categorization[\"user_id\"] == 10150) & \n",
    "    (word_categorization[\"is_user_response_correct\"] == 1)\n",
    "][\"response_time_ms\"]\n",
    "\n",
    "# Compute the standard deviation\n",
    "user_10150_calculated_sd = user_10150_reaction_times.std()\n",
    "\n",
    "# Display results\n",
    "{\n",
    "    \"Stored WC_CorrAns_RT_SD_1\": user_10150_stored_value[0] if len(user_10150_stored_value) > 0 else None,\n",
    "    \"Calculated WC_CorrAns_RT_SD_1\": user_10150_calculated_sd\n",
    "}\n"
   ]
  },
  {
   "cell_type": "code",
   "execution_count": 54,
   "id": "8f5743d1",
   "metadata": {},
   "outputs": [
    {
     "data": {
      "text/plain": [
       "(764.2103955403774, 761.1226641432567)"
      ]
     },
     "execution_count": 54,
     "metadata": {},
     "output_type": "execute_result"
    }
   ],
   "source": [
    "user_10150_calculated_sd_sample = user_10150_reaction_times.std(ddof=1)  # Sample (n-1)\n",
    "user_10150_calculated_sd_population = user_10150_reaction_times.std(ddof=0)  # Population (n)\n",
    "user_10150_calculated_sd_sample, user_10150_calculated_sd_population"
   ]
  },
  {
   "cell_type": "code",
   "execution_count": null,
   "id": "61f2d592",
   "metadata": {},
   "outputs": [],
   "source": []
  }
 ],
 "metadata": {
  "kernelspec": {
   "display_name": "Python 3 (ipykernel)",
   "language": "python",
   "name": "python3"
  },
  "language_info": {
   "codemirror_mode": {
    "name": "ipython",
    "version": 3
   },
   "file_extension": ".py",
   "mimetype": "text/x-python",
   "name": "python",
   "nbconvert_exporter": "python",
   "pygments_lexer": "ipython3",
   "version": "3.9.13"
  }
 },
 "nbformat": 4,
 "nbformat_minor": 5
}
